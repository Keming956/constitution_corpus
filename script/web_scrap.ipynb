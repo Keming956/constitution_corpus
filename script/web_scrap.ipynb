{
 "cells": [
  {
   "cell_type": "code",
   "execution_count": null,
   "metadata": {},
   "outputs": [],
   "source": [
    "\"\"\"\n",
    "This script is for scrapping the transcription in Chinese, English and French of video from TEDtalks website,\n",
    "by using selenium and outpui the result in xml file.\n",
    "\"\"\""
   ]
  },
  {
   "cell_type": "code",
   "execution_count": null,
   "metadata": {},
   "outputs": [],
   "source": [
    "from selenium import webdriver\n",
    "from selenium.webdriver.common.by import By\n",
    "from selenium.webdriver.support.ui import WebDriverWait\n",
    "from selenium.webdriver.support import expected_conditions as EC\n",
    "from selenium.webdriver.support.ui import Select\n",
    "import time\n",
    "import xml.etree.ElementTree as ET"
   ]
  },
  {
   "cell_type": "code",
   "execution_count": null,
   "metadata": {},
   "outputs": [],
   "source": [
    "def initialize_driver():\n",
    "    # Initialize Safari driver\n",
    "    driver = webdriver.Safari()\n",
    "    return driver"
   ]
  },
  {
   "cell_type": "code",
   "execution_count": null,
   "metadata": {},
   "outputs": [],
   "source": [
    "def fetch_video_links(driver, url):\n",
    "    driver.get(url)\n",
    "    # wait for the page to load and collect all the video links by xpath\n",
    "    video_link_elements = WebDriverWait(driver, 10).until(\n",
    "        EC.presence_of_all_elements_located(\n",
    "            (By.XPATH, \"//*[@id='maincontent']//a[contains(@href, '/talks/')]\")\n",
    "        )\n",
    "    )\n",
    "    # Extract the href attribute from the elements\n",
    "    video_links = [element.get_attribute(\"href\") for element in video_link_elements]\n",
    "    return video_links"
   ]
  },
  {
   "cell_type": "code",
   "execution_count": null,
   "metadata": {},
   "outputs": [],
   "source": [
    "def accept_cookies(driver):\n",
    "    # Accept cookies on the page\n",
    "    try:\n",
    "        accept_button = WebDriverWait(driver, 5).until(\n",
    "            EC.element_to_be_clickable(\n",
    "                (By.XPATH, '//*[@id=\"onetrust-accept-btn-handler\"]')\n",
    "            )\n",
    "        )\n",
    "        driver.execute_script(\"arguments[0].click();\", accept_button)\n",
    "    except Exception as e:\n",
    "        print(\"No cookie button found or error clicking it:\", e)"
   ]
  },
  {
   "cell_type": "code",
   "execution_count": null,
   "metadata": {},
   "outputs": [],
   "source": [
    "def pause_video(driver):\n",
    "    # pause the video once the video begins playing\n",
    "    try:\n",
    "        WebDriverWait(driver, 10).until(\n",
    "            lambda driver: driver.execute_script(\n",
    "                \"return document.getElementById('video').currentTime > 0;\"\n",
    "            )\n",
    "        )\n",
    "        driver.execute_script(\"document.getElementById('video').pause();\")\n",
    "    except Exception as e:\n",
    "        print(\"Failed to pause the video:\", e)"
   ]
  },
  {
   "cell_type": "code",
   "execution_count": null,
   "metadata": {},
   "outputs": [],
   "source": [
    "def open_transcript(driver):\n",
    "    # open the transcript of the video\n",
    "    try:\n",
    "        transcript_button_xpath = '//*[@id=\"transcript-control\"]'\n",
    "        WebDriverWait(driver, 20).until(\n",
    "            EC.presence_of_element_located((By.XPATH, transcript_button_xpath))\n",
    "        )\n",
    "        transcript_button = driver.find_element(By.XPATH, transcript_button_xpath)\n",
    "        driver.execute_script(\"arguments[0].click();\", transcript_button)\n",
    "        time.sleep(5)\n",
    "    except Exception as e:\n",
    "        print(\"Error clicking on transcript button:\", e)"
   ]
  },
  {
   "cell_type": "code",
   "execution_count": null,
   "metadata": {},
   "outputs": [],
   "source": [
    "def switch_language_js(driver, language_code):\n",
    "    # switch the language of the transcript\n",
    "    try:\n",
    "        language_select = WebDriverWait(driver, 5).until(\n",
    "            EC.element_to_be_clickable(\n",
    "                (\n",
    "                    By.XPATH,\n",
    "                    \"/html/body/div[2]/div[1]/div[2]/div/div/div/div[2]/div[1]/div/select\",\n",
    "                )\n",
    "            )\n",
    "        )\n",
    "        select = Select(language_select)\n",
    "        select.select_by_value(language_code)\n",
    "        driver.execute_script(\n",
    "            \"arguments[0].dispatchEvent(new Event('change'));\", language_select\n",
    "        )\n",
    "        # try to dispatch an input event if change event is not working\n",
    "        driver.execute_script(\n",
    "            \"arguments[0].dispatchEvent(new Event('input'));\", language_select\n",
    "        )\n",
    "        time.sleep(5)\n",
    "    except Exception as e:\n",
    "        print(f\"Failed to set language with code '{language_code}':\", e)"
   ]
  },
  {
   "cell_type": "code",
   "execution_count": null,
   "metadata": {},
   "outputs": [],
   "source": [
    "def save_transcript(driver, filename):\n",
    "    # save the transcript in xml file\n",
    "    time.sleep(5)  # wait for the transcript to load\n",
    "    transcript_elements = WebDriverWait(driver, 30).until(\n",
    "        EC.presence_of_all_elements_located(\n",
    "            (By.XPATH, \"/html/body/div[2]/div[1]/div[2]/div/div/div/div[4]/div\")\n",
    "        )\n",
    "    )\n",
    "    root = ET.Element(\"transcript\")\n",
    "    for element in transcript_elements:\n",
    "        ET.SubElement(root, \"section\", text=element.text)\n",
    "    tree = ET.ElementTree(root)\n",
    "    tree.write(filename)"
   ]
  },
  {
   "cell_type": "code",
   "execution_count": null,
   "metadata": {},
   "outputs": [],
   "source": [
    "\"\"\"accept a URL and fetch the video links from the page then accept the cookies on the page, \n",
    "pause the video, open the transcript, \n",
    "switch the language to Chinese, French \n",
    "and save the transcript in xml file.\n",
    "\"\"\"\n",
    "\n",
    "driver = initialize_driver()\n",
    "url = \"https://www.ted.com/talks?sort=oldest&topics%5B0%5D=3d%20printing&topics%5B1%5D=ai&topics%5B2%5D=blockchain&topics%5B3%5D=computers&topics%5B4%5D=cyber%20security&topics%5B5%5D=data&topics%5B6%5D=driverless%20cars&topics%5B7%5D=drones&topics%5B8%5D=engineering&topics%5B9%5D=future&topics%5B10%5D=internet&topics%5B11%5D=nanotechnology&topics%5B12%5D=robots&topics%5B13%5D=social%20media&topics%5B14%5D=software&topics%5B15%5D=surveillance&topics%5B16%5D=technology&topics%5B17%5D=virtual%20reality\"\n",
    "links = fetch_video_links(driver, url)\n",
    "accept_cookies(driver)\n",
    "video_number = 1  # initialize the video number\n",
    "for link in links:\n",
    "    driver.get(link)\n",
    "    pause_video(driver)\n",
    "    open_transcript(driver)\n",
    "    save_transcript(driver, f\"english-{video_number}.xml\")\n",
    "    switch_language_js(driver, \"zh-cn\")# switch to Chinese\n",
    "    save_transcript(driver, f\"chinese-{video_number}.xml\")\n",
    "    switch_language_js(driver, \"fr\")# switch to French\n",
    "    save_transcript(driver, f\"french-{video_number}.xml\")\n",
    "    video_number += 1  # update the video number\n",
    "driver.quit()"
   ]
  },
  {
   "cell_type": "markdown",
   "metadata": {},
   "source": [
    "Chaque fois quand je lance ce script, pour les premiers 19 ou 20 vidéos, tout s'est bien passé, mais après, le site va être crashé, et je ne sais absolument pas ce qui s'est passé."
   ]
  },
  {
   "cell_type": "markdown",
   "metadata": {},
   "source": [
    "![Tederror](./img/error.jpg)"
   ]
  }
 ],
 "metadata": {
  "kernelspec": {
   "display_name": "OTC",
   "language": "python",
   "name": "python3"
  },
  "language_info": {
   "codemirror_mode": {
    "name": "ipython",
    "version": 3
   },
   "file_extension": ".py",
   "mimetype": "text/x-python",
   "name": "python",
   "nbconvert_exporter": "python",
   "pygments_lexer": "ipython3",
   "version": "3.12.2"
  }
 },
 "nbformat": 4,
 "nbformat_minor": 2
}
