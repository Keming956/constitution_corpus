{
 "cells": [
  {
   "cell_type": "code",
   "execution_count": 1,
   "metadata": {},
   "outputs": [],
   "source": [
    "from selenium import webdriver\n",
    "from selenium.webdriver.common.by import By\n",
    "from selenium.webdriver.support.ui import WebDriverWait\n",
    "from selenium.webdriver.support import expected_conditions as EC\n",
    "from selenium.webdriver.support.ui import Select\n",
    "import time\n",
    "import xml.etree.ElementTree as ET\n"
   ]
  },
  {
   "cell_type": "code",
   "execution_count": 2,
   "metadata": {},
   "outputs": [],
   "source": [
    "\n",
    "def initialize_driver():\n",
    "    # Initialize Safari driver\n",
    "    driver = webdriver.Safari()\n",
    "    return driver\n"
   ]
  },
  {
   "cell_type": "code",
   "execution_count": 3,
   "metadata": {},
   "outputs": [],
   "source": [
    "def fetch_video_links(driver, url):\n",
    "    driver.get(url)\n",
    "    # 等待网页加载并获取所有视频链接\n",
    "    video_link_elements = WebDriverWait(driver, 10).until(\n",
    "        EC.presence_of_all_elements_located((By.XPATH, \"//*[@id='maincontent']//a[contains(@href, '/talks/')]\"))\n",
    "    )\n",
    "    # 提取每个元素的 href 属性\n",
    "    video_links = [element.get_attribute('href') for element in video_link_elements]\n",
    "    return video_links\n"
   ]
  },
  {
   "cell_type": "code",
   "execution_count": 4,
   "metadata": {},
   "outputs": [],
   "source": [
    "\n",
    "def accept_cookies(driver):\n",
    "    try:\n",
    "        accept_button = WebDriverWait(driver, 5).until(\n",
    "            EC.element_to_be_clickable((By.XPATH, '//*[@id=\"onetrust-accept-btn-handler\"]'))\n",
    "        )\n",
    "        driver.execute_script(\"arguments[0].click();\", accept_button)\n",
    "    except Exception as e:\n",
    "        print(\"No cookie button found or error clicking it:\", e)\n"
   ]
  },
  {
   "cell_type": "code",
   "execution_count": 5,
   "metadata": {},
   "outputs": [],
   "source": [
    "\n",
    "def pause_video(driver):\n",
    "    try:\n",
    "        # 等待视频开始播放（currentTime > 0）\n",
    "        WebDriverWait(driver, 10).until(\n",
    "            lambda driver: driver.execute_script(\"return document.getElementById('video').currentTime > 0;\")\n",
    "        )\n",
    "        # 暂停视频\n",
    "        driver.execute_script(\"document.getElementById('video').pause();\")\n",
    "    except Exception as e:\n",
    "        print(\"Failed to pause the video:\", e)\n",
    "\n"
   ]
  },
  {
   "cell_type": "code",
   "execution_count": 6,
   "metadata": {},
   "outputs": [],
   "source": [
    "\n",
    "def open_transcript(driver):\n",
    "    try:\n",
    "        transcript_button = WebDriverWait(driver, 20).until(\n",
    "            EC.element_to_be_clickable((By.XPATH, '//*[@id=\"transcript-control\"]'))\n",
    "        ) \n",
    "        driver.execute_script(\"arguments[0].click();\", transcript_button)\n",
    "        time.sleep(5)\n",
    "    except Exception as e:\n",
    "        print(\"Error clicking on transcript button:\", e)\n",
    "\n"
   ]
  },
  {
   "cell_type": "code",
   "execution_count": 7,
   "metadata": {},
   "outputs": [],
   "source": [
    "\n",
    "def switch_language_js(driver, language_code):\n",
    "    try:\n",
    "        language_select = WebDriverWait(driver, 5).until(\n",
    "            EC.element_to_be_clickable((By.XPATH, '/html/body/div[2]/div[1]/div[2]/div/div/div/div[2]/div[1]/div/select'))\n",
    "        )\n",
    "        select = Select(language_select)\n",
    "        select.select_by_value(language_code)\n",
    "        driver.execute_script(\"arguments[0].dispatchEvent(new Event('change'));\", language_select)\n",
    "        # 尝试额外触发input事件\n",
    "        driver.execute_script(\"arguments[0].dispatchEvent(new Event('input'));\", language_select)\n",
    "        time.sleep(5)\n",
    "    except Exception as e:\n",
    "        print(f\"Failed to set language with code '{language_code}':\", e)\n"
   ]
  },
  {
   "cell_type": "code",
   "execution_count": 8,
   "metadata": {},
   "outputs": [],
   "source": [
    "\n",
    "def save_transcript(driver, filename):\n",
    "    time.sleep(5)  # 等待指定元素（字幕内容）加载完毕\n",
    "    transcript_elements = WebDriverWait(driver, 30).until(\n",
    "        EC.presence_of_all_elements_located((By.XPATH, '/html/body/div[2]/div[1]/div[2]/div/div/div/div[4]/div'))\n",
    "    )\n",
    "    root = ET.Element(\"transcript\")\n",
    "    for element in transcript_elements:\n",
    "        ET.SubElement(root, \"section\", text=element.text)\n",
    "    tree = ET.ElementTree(root)\n",
    "    tree.write(filename)\n"
   ]
  },
  {
   "cell_type": "code",
   "execution_count": 10,
   "metadata": {},
   "outputs": [
    {
     "name": "stdout",
     "output_type": "stream",
     "text": [
      "Failed to set language with code 'zh-cn': Message: \n",
      "\n",
      "Failed to set language with code 'fr': Message: \n",
      "\n",
      "Error clicking on transcript button: Message: A node reference could not be resolved: Node with identifier 'node-4A9A14F4-FE82-4DAE-87DD-2D47377E6EFB' was not found; For documentation on this error, please visit: https://www.selenium.dev/documentation/webdriver/troubleshooting/errors#stale-element-reference-exception\n",
      "\n"
     ]
    },
    {
     "ename": "TimeoutException",
     "evalue": "Message: \n",
     "output_type": "error",
     "traceback": [
      "\u001b[0;31m---------------------------------------------------------------------------\u001b[0m",
      "\u001b[0;31mTimeoutException\u001b[0m                          Traceback (most recent call last)",
      "Cell \u001b[0;32mIn[10], line 11\u001b[0m\n\u001b[1;32m      9\u001b[0m pause_video(driver)\n\u001b[1;32m     10\u001b[0m open_transcript(driver)\n\u001b[0;32m---> 11\u001b[0m \u001b[43msave_transcript\u001b[49m\u001b[43m(\u001b[49m\u001b[43mdriver\u001b[49m\u001b[43m,\u001b[49m\u001b[43m \u001b[49m\u001b[38;5;124;43mf\u001b[39;49m\u001b[38;5;124;43m\"\u001b[39;49m\u001b[38;5;124;43menglish-\u001b[39;49m\u001b[38;5;132;43;01m{\u001b[39;49;00m\u001b[43mvideo_number\u001b[49m\u001b[38;5;132;43;01m}\u001b[39;49;00m\u001b[38;5;124;43m.xml\u001b[39;49m\u001b[38;5;124;43m\"\u001b[39;49m\u001b[43m)\u001b[49m\n\u001b[1;32m     12\u001b[0m switch_language_js(driver, \u001b[38;5;124m'\u001b[39m\u001b[38;5;124mzh-cn\u001b[39m\u001b[38;5;124m'\u001b[39m)\n\u001b[1;32m     13\u001b[0m save_transcript(driver, \u001b[38;5;124mf\u001b[39m\u001b[38;5;124m\"\u001b[39m\u001b[38;5;124mchinese-\u001b[39m\u001b[38;5;132;01m{\u001b[39;00mvideo_number\u001b[38;5;132;01m}\u001b[39;00m\u001b[38;5;124m.xml\u001b[39m\u001b[38;5;124m\"\u001b[39m)\n",
      "Cell \u001b[0;32mIn[8], line 3\u001b[0m, in \u001b[0;36msave_transcript\u001b[0;34m(driver, filename)\u001b[0m\n\u001b[1;32m      1\u001b[0m \u001b[38;5;28;01mdef\u001b[39;00m \u001b[38;5;21msave_transcript\u001b[39m(driver, filename):\n\u001b[1;32m      2\u001b[0m     time\u001b[38;5;241m.\u001b[39msleep(\u001b[38;5;241m5\u001b[39m)  \u001b[38;5;66;03m# 等待指定元素（字幕内容）加载完毕\u001b[39;00m\n\u001b[0;32m----> 3\u001b[0m     transcript_elements \u001b[38;5;241m=\u001b[39m \u001b[43mWebDriverWait\u001b[49m\u001b[43m(\u001b[49m\u001b[43mdriver\u001b[49m\u001b[43m,\u001b[49m\u001b[43m \u001b[49m\u001b[38;5;241;43m30\u001b[39;49m\u001b[43m)\u001b[49m\u001b[38;5;241;43m.\u001b[39;49m\u001b[43muntil\u001b[49m\u001b[43m(\u001b[49m\n\u001b[1;32m      4\u001b[0m \u001b[43m        \u001b[49m\u001b[43mEC\u001b[49m\u001b[38;5;241;43m.\u001b[39;49m\u001b[43mpresence_of_all_elements_located\u001b[49m\u001b[43m(\u001b[49m\u001b[43m(\u001b[49m\u001b[43mBy\u001b[49m\u001b[38;5;241;43m.\u001b[39;49m\u001b[43mXPATH\u001b[49m\u001b[43m,\u001b[49m\u001b[43m \u001b[49m\u001b[38;5;124;43m'\u001b[39;49m\u001b[38;5;124;43m/html/body/div[2]/div[1]/div[2]/div/div/div/div[4]/div\u001b[39;49m\u001b[38;5;124;43m'\u001b[39;49m\u001b[43m)\u001b[49m\u001b[43m)\u001b[49m\n\u001b[1;32m      5\u001b[0m \u001b[43m    \u001b[49m\u001b[43m)\u001b[49m\n\u001b[1;32m      6\u001b[0m     root \u001b[38;5;241m=\u001b[39m ET\u001b[38;5;241m.\u001b[39mElement(\u001b[38;5;124m\"\u001b[39m\u001b[38;5;124mtranscript\u001b[39m\u001b[38;5;124m\"\u001b[39m)\n\u001b[1;32m      7\u001b[0m     \u001b[38;5;28;01mfor\u001b[39;00m element \u001b[38;5;129;01min\u001b[39;00m transcript_elements:\n",
      "File \u001b[0;32m~/miniconda3/envs/Outil_corpus/lib/python3.12/site-packages/selenium/webdriver/support/wait.py:105\u001b[0m, in \u001b[0;36mWebDriverWait.until\u001b[0;34m(self, method, message)\u001b[0m\n\u001b[1;32m    103\u001b[0m     \u001b[38;5;28;01mif\u001b[39;00m time\u001b[38;5;241m.\u001b[39mmonotonic() \u001b[38;5;241m>\u001b[39m end_time:\n\u001b[1;32m    104\u001b[0m         \u001b[38;5;28;01mbreak\u001b[39;00m\n\u001b[0;32m--> 105\u001b[0m \u001b[38;5;28;01mraise\u001b[39;00m TimeoutException(message, screen, stacktrace)\n",
      "\u001b[0;31mTimeoutException\u001b[0m: Message: \n"
     ]
    }
   ],
   "source": [
    "\n",
    "    driver = initialize_driver()\n",
    "    url = \"https://www.ted.com/talks?sort=oldest&topics%5B0%5D=3d%20printing&topics%5B1%5D=ai&topics%5B2%5D=blockchain&topics%5B3%5D=computers&topics%5B4%5D=cyber%20security&topics%5B5%5D=data&topics%5B6%5D=driverless%20cars&topics%5B7%5D=drones&topics%5B8%5D=engineering&topics%5B9%5D=future&topics%5B10%5D=internet&topics%5B11%5D=nanotechnology&topics%5B12%5D=robots&topics%5B13%5D=social%20media&topics%5B14%5D=software&topics%5B15%5D=surveillance&topics%5B16%5D=technology&topics%5B17%5D=virtual%20reality\"\n",
    "    links = fetch_video_links(driver, url)\n",
    "    accept_cookies(driver)\n",
    "    video_number = 1  # 初始化视频编号\n",
    "    for link in links:\n",
    "        driver.get(link)\n",
    "    \n",
    "        pause_video(driver)\n",
    "        open_transcript(driver)\n",
    "        save_transcript(driver, f\"english-{video_number}.xml\")\n",
    "        switch_language_js(driver, 'zh-cn')\n",
    "        save_transcript(driver, f\"chinese-{video_number}.xml\")\n",
    "        switch_language_js(driver, 'fr')\n",
    "        save_transcript(driver, f\"french-{video_number}.xml\")\n",
    "        video_number += 1  # 更新视频编号\n",
    "    driver.quit()\n",
    "\n",
    "\n"
   ]
  }
 ],
 "metadata": {
  "kernelspec": {
   "display_name": "OTC",
   "language": "python",
   "name": "python3"
  },
  "language_info": {
   "codemirror_mode": {
    "name": "ipython",
    "version": 3
   },
   "file_extension": ".py",
   "mimetype": "text/x-python",
   "name": "python",
   "nbconvert_exporter": "python",
   "pygments_lexer": "ipython3",
   "version": "3.12.2"
  }
 },
 "nbformat": 4,
 "nbformat_minor": 2
}
