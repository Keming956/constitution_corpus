{
 "cells": [
  {
   "cell_type": "code",
   "execution_count": 9,
   "metadata": {},
   "outputs": [],
   "source": [
    "import pandas as pd\n",
    "import json\n",
    "from datasets import Dataset, load_from_disk"
   ]
  },
  {
   "cell_type": "code",
   "execution_count": 10,
   "metadata": {},
   "outputs": [
    {
     "data": {
      "text/html": [
       "<div>\n",
       "<style scoped>\n",
       "    .dataframe tbody tr th:only-of-type {\n",
       "        vertical-align: middle;\n",
       "    }\n",
       "\n",
       "    .dataframe tbody tr th {\n",
       "        vertical-align: top;\n",
       "    }\n",
       "\n",
       "    .dataframe thead th {\n",
       "        text-align: right;\n",
       "    }\n",
       "</style>\n",
       "<table border=\"1\" class=\"dataframe\">\n",
       "  <thead>\n",
       "    <tr style=\"text-align: right;\">\n",
       "      <th></th>\n",
       "      <th>en</th>\n",
       "      <th>fr</th>\n",
       "    </tr>\n",
       "  </thead>\n",
       "  <tbody>\n",
       "    <tr>\n",
       "      <th>0</th>\n",
       "      <td>Hello voice mail, my old friend.</td>\n",
       "      <td>Bonjour répondeur, mon vieil ami.</td>\n",
       "    </tr>\n",
       "    <tr>\n",
       "      <th>1</th>\n",
       "      <td>People are feeling overwhelmed.</td>\n",
       "      <td>Que c'est trop de technologie, trop vite.</td>\n",
       "    </tr>\n",
       "    <tr>\n",
       "      <th>2</th>\n",
       "      <td>(Laughter)</td>\n",
       "      <td>(Rires) Je connais les ficelles maintenant, je...</td>\n",
       "    </tr>\n",
       "    <tr>\n",
       "      <th>3</th>\n",
       "      <td>These people are reaching thousands, if not mi...</td>\n",
       "      <td>J'ai aussi un ami, qui a un blog sur le numéri...</td>\n",
       "    </tr>\n",
       "    <tr>\n",
       "      <th>4</th>\n",
       "      <td>This is what happened to me.</td>\n",
       "      <td>Je me suis dit que j'allais gagner un prix, pa...</td>\n",
       "    </tr>\n",
       "  </tbody>\n",
       "</table>\n",
       "</div>"
      ],
      "text/plain": [
       "                                                  en  \\\n",
       "0                   Hello voice mail, my old friend.   \n",
       "1                    People are feeling overwhelmed.   \n",
       "2                                         (Laughter)   \n",
       "3  These people are reaching thousands, if not mi...   \n",
       "4                       This is what happened to me.   \n",
       "\n",
       "                                                  fr  \n",
       "0                  Bonjour répondeur, mon vieil ami.  \n",
       "1          Que c'est trop de technologie, trop vite.  \n",
       "2  (Rires) Je connais les ficelles maintenant, je...  \n",
       "3  J'ai aussi un ami, qui a un blog sur le numéri...  \n",
       "4  Je me suis dit que j'allais gagner un prix, pa...  "
      ]
     },
     "execution_count": 10,
     "metadata": {},
     "output_type": "execute_result"
    }
   ],
   "source": [
    "# lire le fichier json et le convertir en dataframe\n",
    "file_path = \"../data/clean/corpus_traité.json\"\n",
    "with open(file_path, \"r\", encoding=\"utf-8\") as file:\n",
    "    data = [json.loads(line.strip()) for line in file]\n",
    "\n",
    "# Créer un DataFrame à partir de la liste de dictionnaires\n",
    "df = pd.DataFrame(data)\n",
    "df.head()"
   ]
  },
  {
   "cell_type": "code",
   "execution_count": 11,
   "metadata": {},
   "outputs": [
    {
     "name": "stderr",
     "output_type": "stream",
     "text": [
      "Saving the dataset (1/1 shards): 100%|██████████| 2414/2414 [00:00<00:00, 453326.61 examples/s]\n"
     ]
    }
   ],
   "source": [
    "# Créer un dataset Hugging Face à partir du DataFrame\n",
    "hf_dataset = Dataset.from_pandas(df)\n",
    "output_dir = \"../data/clean/hf_dataset\"\n",
    "hf_dataset.save_to_disk(output_dir)"
   ]
  },
  {
   "cell_type": "code",
   "execution_count": 12,
   "metadata": {},
   "outputs": [
    {
     "name": "stdout",
     "output_type": "stream",
     "text": [
      "Dataset({\n",
      "    features: ['en', 'fr'],\n",
      "    num_rows: 2414\n",
      "})\n"
     ]
    },
    {
     "data": {
      "text/html": [
       "<div>\n",
       "<style scoped>\n",
       "    .dataframe tbody tr th:only-of-type {\n",
       "        vertical-align: middle;\n",
       "    }\n",
       "\n",
       "    .dataframe tbody tr th {\n",
       "        vertical-align: top;\n",
       "    }\n",
       "\n",
       "    .dataframe thead th {\n",
       "        text-align: right;\n",
       "    }\n",
       "</style>\n",
       "<table border=\"1\" class=\"dataframe\">\n",
       "  <thead>\n",
       "    <tr style=\"text-align: right;\">\n",
       "      <th></th>\n",
       "      <th>en</th>\n",
       "      <th>fr</th>\n",
       "    </tr>\n",
       "  </thead>\n",
       "  <tbody>\n",
       "    <tr>\n",
       "      <th>0</th>\n",
       "      <td>Hello voice mail, my old friend.</td>\n",
       "      <td>Bonjour répondeur, mon vieil ami.</td>\n",
       "    </tr>\n",
       "    <tr>\n",
       "      <th>1</th>\n",
       "      <td>People are feeling overwhelmed.</td>\n",
       "      <td>Que c'est trop de technologie, trop vite.</td>\n",
       "    </tr>\n",
       "    <tr>\n",
       "      <th>2</th>\n",
       "      <td>(Laughter)</td>\n",
       "      <td>(Rires) Je connais les ficelles maintenant, je...</td>\n",
       "    </tr>\n",
       "    <tr>\n",
       "      <th>3</th>\n",
       "      <td>These people are reaching thousands, if not mi...</td>\n",
       "      <td>J'ai aussi un ami, qui a un blog sur le numéri...</td>\n",
       "    </tr>\n",
       "    <tr>\n",
       "      <th>4</th>\n",
       "      <td>This is what happened to me.</td>\n",
       "      <td>Je me suis dit que j'allais gagner un prix, pa...</td>\n",
       "    </tr>\n",
       "  </tbody>\n",
       "</table>\n",
       "</div>"
      ],
      "text/plain": [
       "                                                  en  \\\n",
       "0                   Hello voice mail, my old friend.   \n",
       "1                    People are feeling overwhelmed.   \n",
       "2                                         (Laughter)   \n",
       "3  These people are reaching thousands, if not mi...   \n",
       "4                       This is what happened to me.   \n",
       "\n",
       "                                                  fr  \n",
       "0                  Bonjour répondeur, mon vieil ami.  \n",
       "1          Que c'est trop de technologie, trop vite.  \n",
       "2  (Rires) Je connais les ficelles maintenant, je...  \n",
       "3  J'ai aussi un ami, qui a un blog sur le numéri...  \n",
       "4  Je me suis dit que j'allais gagner un prix, pa...  "
      ]
     },
     "execution_count": 12,
     "metadata": {},
     "output_type": "execute_result"
    }
   ],
   "source": [
    "# Charger le dataset Hugging Face pour vérifier qu'il a été correctement enregistré\n",
    "loaded_dataset = load_from_disk(output_dir)\n",
    "\n",
    "print(loaded_dataset)\n",
    "\n",
    "df_loaded = loaded_dataset.to_pandas()\n",
    "df_loaded.head()"
   ]
  }
 ],
 "metadata": {
  "kernelspec": {
   "display_name": "OTC",
   "language": "python",
   "name": "python3"
  },
  "language_info": {
   "codemirror_mode": {
    "name": "ipython",
    "version": 3
   },
   "file_extension": ".py",
   "mimetype": "text/x-python",
   "name": "python",
   "nbconvert_exporter": "python",
   "pygments_lexer": "ipython3",
   "version": "3.12.2"
  }
 },
 "nbformat": 4,
 "nbformat_minor": 2
}
