{
 "cells": [
  {
   "cell_type": "code",
   "execution_count": 5,
   "metadata": {},
   "outputs": [
    {
     "data": {
      "text/plain": [
       "'Ce script permet de transformer le fichier TMX en format du corpus de référence.'"
      ]
     },
     "execution_count": 5,
     "metadata": {},
     "output_type": "execute_result"
    }
   ],
   "source": [
    "\"\"\"Ce script permet de transformer le fichier TMX en format du corpus de référence.\"\"\"\n"
   ]
  },
  {
   "cell_type": "code",
   "execution_count": 6,
   "metadata": {},
   "outputs": [],
   "source": [
    "import xml.etree.ElementTree as ET\n"
   ]
  },
  {
   "cell_type": "code",
   "execution_count": 7,
   "metadata": {},
   "outputs": [],
   "source": [
    "\n",
    "# lire le fichier TMX\n",
    "tmx_file_path = '../data/raw/corpus_aligné.tmx'#obtenu avec l'outil de traduction aligné Matecat\n",
    "tree = ET.parse(tmx_file_path)\n",
    "root = tree.getroot()\n"
   ]
  },
  {
   "cell_type": "code",
   "execution_count": 8,
   "metadata": {},
   "outputs": [
    {
     "name": "stdout",
     "output_type": "stream",
     "text": [
      "Output written to ../data/clean/corpus_traité.txt\n"
     ]
    }
   ],
   "source": [
    "\n",
    "# écrire le fichier de sortie\n",
    "output_file_path = '../data/clean/corpus_traité.txt'\n",
    "\n",
    "with open(output_file_path, 'w', encoding='utf-8') as f:\n",
    "    # itérer sur chaque unité de traduction\n",
    "    for tu in root.iter('tu'):\n",
    "        en_text = None\n",
    "        fr_text = None\n",
    "        # iterer sur chaque tuv\n",
    "        for tuv in tu.iter('tuv'):\n",
    "            lang = tuv.attrib.get('{http://www.w3.org/XML/1998/namespace}lang')\n",
    "            seg = tuv.find('seg').text\n",
    "            if lang == 'en-US':\n",
    "                en_text = seg\n",
    "            elif lang == 'fr-FR':\n",
    "                fr_text = seg\n",
    "        \n",
    "        # écrire dans le fichier de sortie\n",
    "        if en_text and fr_text:\n",
    "            f.write(f'{{ \"en\": \"{en_text}\", \"fr\": \"{fr_text}\" }}\\n')\n",
    "\n",
    "print(f'Output written to {output_file_path}')"
   ]
  }
 ],
 "metadata": {
  "kernelspec": {
   "display_name": "OTC",
   "language": "python",
   "name": "python3"
  },
  "language_info": {
   "codemirror_mode": {
    "name": "ipython",
    "version": 3
   },
   "file_extension": ".py",
   "mimetype": "text/x-python",
   "name": "python",
   "nbconvert_exporter": "python",
   "pygments_lexer": "ipython3",
   "version": "3.12.2"
  }
 },
 "nbformat": 4,
 "nbformat_minor": 2
}
